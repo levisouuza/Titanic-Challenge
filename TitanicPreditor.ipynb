{
  "nbformat": 4,
  "nbformat_minor": 0,
  "metadata": {
    "colab": {
      "name": "TitanicPreditor.ipynb",
      "provenance": [],
      "collapsed_sections": [],
      "toc_visible": true
    },
    "kernelspec": {
      "name": "python3",
      "display_name": "Python 3"
    }
  },
  "cells": [
    {
      "cell_type": "markdown",
      "metadata": {
        "id": "jI1GozCltsp5",
        "colab_type": "text"
      },
      "source": [
        "# Titanic: Machine Learning from Disaster"
      ]
    },
    {
      "cell_type": "markdown",
      "metadata": {
        "id": "g5QYwfPqt0qV",
        "colab_type": "text"
      },
      "source": [
        "O Titanic Challenge é considerado, por muitos, o *Hello World* da ciência de dados. O desafio serve para os iniciantes se familiarizarem com o funcionamento das competições de machine learning pela plataforma Kaggle, conhecida como a rede social de data science e machine learning. Nesse [Link](https://www.kaggle.com/c/titanic/overview) é possível ter acesso a maiores detalhes do desafio."
      ]
    },
    {
      "cell_type": "markdown",
      "metadata": {
        "id": "6irwpDPxaWIh",
        "colab_type": "text"
      },
      "source": [
        "O projeto foi estruturado da seguinte forma:\n",
        "\n",
        "1.   **Apresentação sobre o Titanic**\n",
        "2.   **Definição do problema/objetivo**\n",
        "3.   **Data Extract**\n",
        "4.   **Data Wrangling**\n",
        "5.   **Exploratory Data Analysis**\n",
        "6.   **Data Wrangling (Parte 2)** (edit: Tratamento importante para melhorar as futuras predições. Incluído posteriormente.)\n",
        "7.   **Definição Modelos**\n",
        "8.   **Avaliação**\n",
        "9.   **Aplicação Modelo**\n"
      ]
    },
    {
      "cell_type": "markdown",
      "metadata": {
        "id": "VW5H0chbU9PP",
        "colab_type": "text"
      },
      "source": [
        "## 1. Apresentação sobre o Titanic\n",
        "\n",
        "O Titanic foi um navio da classe de transatlânticos lançado em maio de 1911. Na época, foi considerado o navio mais luxuoso e seguro já construído, acarrentando em um fama de \"Inafundável\". \n",
        "\n",
        "Todavia, em abril de 1912, afundou após uma colisão com um iceberg. Seu naufrágio resultou na mortes de aproximadamente 1.500 pessoas. \n",
        "\n",
        "[Fonte](https://pt.wikipedia.org/wiki/RMS_Titanic)\n",
        "\n",
        "![Titanic](https://aventurasnahistoria.uol.com.br/media/_versions/legacy/2018/04/11/titanic2-0349859403-2203948..capa_widelg.jpg)"
      ]
    },
    {
      "cell_type": "markdown",
      "metadata": {
        "id": "kXrH39_4XvLZ",
        "colab_type": "text"
      },
      "source": [
        "## 2. Definição do problema/objetivo\n",
        "\n",
        "Quem nunca escutou a celébre frase:\"Mulheres e crianças primeiro!\". A frase está escrita na maioria dos protocolos de evacuação do mundo, no titanic não foi diferente. \n",
        "\n",
        "Eventualmente, é notório que algumas pessoas pertinentes a tais grupos tiveram maior probabilidade de sobreviência. \n",
        "\n",
        "O desafio consiste em construir um modelo que consiga **Classificar** com maior assertividade possível se determinado passageiro conseguiria sobreviver ao naufrágio do Titanic.\n",
        "\n",
        "\n",
        "\n",
        " \n"
      ]
    },
    {
      "cell_type": "markdown",
      "metadata": {
        "id": "G5iC7nQj814v",
        "colab_type": "text"
      },
      "source": [
        "## 3. Data Extract\n",
        "\n",
        "Os datasets necessários para criação do modelo, treinamento e teste podem ser acessados por esse [link](https://www.kaggle.com/c/titanic/data).\n",
        "\n",
        "Para esse projeto, foram realizados os downloads dos datasets e copiados para uma pasta do Google Drive. \n",
        "\n",
        "No notebook, foi montada uma instância do Google Drive que será utilizada para extrair os dados diretamente da pasta criada do projeto."
      ]
    },
    {
      "cell_type": "code",
      "metadata": {
        "id": "_ZFjiwa8oHlG",
        "colab_type": "code",
        "colab": {
          "base_uri": "https://localhost:8080/",
          "height": 34
        },
        "outputId": "9a8e038e-4042-4f49-f60f-7612f38c31c6"
      },
      "source": [
        "from google.colab import drive\n",
        "drive.mount('/content/drive')"
      ],
      "execution_count": 1,
      "outputs": [
        {
          "output_type": "stream",
          "text": [
            "Mounted at /content/drive\n"
          ],
          "name": "stdout"
        }
      ]
    },
    {
      "cell_type": "code",
      "metadata": {
        "id": "9byxPcpwpxRO",
        "colab_type": "code",
        "colab": {}
      },
      "source": [
        "# importando a lib pandas e instânciando os datasets de treino e teste.\n",
        "import pandas as pd"
      ],
      "execution_count": 3,
      "outputs": []
    },
    {
      "cell_type": "code",
      "metadata": {
        "id": "RNugmiPNpzBn",
        "colab_type": "code",
        "colab": {}
      },
      "source": [
        "data_test = pd.read_csv('/content/drive/My Drive/titanic-challenge/datasets/test.csv')"
      ],
      "execution_count": 4,
      "outputs": []
    },
    {
      "cell_type": "code",
      "metadata": {
        "id": "QtvzSATwp680",
        "colab_type": "code",
        "colab": {}
      },
      "source": [
        "data_train = pd.read_csv('/content/drive/My Drive/titanic-challenge/datasets/train.csv')"
      ],
      "execution_count": 5,
      "outputs": []
    },
    {
      "cell_type": "code",
      "metadata": {
        "id": "j5RptUPCoxNf",
        "colab_type": "code",
        "colab": {
          "base_uri": "https://localhost:8080/",
          "height": 204
        },
        "outputId": "93c29c04-305a-4608-9db5-6513c1f9f1a6"
      },
      "source": [
        "# dataset para treino \n",
        "data_train.head()"
      ],
      "execution_count": 6,
      "outputs": [
        {
          "output_type": "execute_result",
          "data": {
            "text/html": [
              "<div>\n",
              "<style scoped>\n",
              "    .dataframe tbody tr th:only-of-type {\n",
              "        vertical-align: middle;\n",
              "    }\n",
              "\n",
              "    .dataframe tbody tr th {\n",
              "        vertical-align: top;\n",
              "    }\n",
              "\n",
              "    .dataframe thead th {\n",
              "        text-align: right;\n",
              "    }\n",
              "</style>\n",
              "<table border=\"1\" class=\"dataframe\">\n",
              "  <thead>\n",
              "    <tr style=\"text-align: right;\">\n",
              "      <th></th>\n",
              "      <th>PassengerId</th>\n",
              "      <th>Survived</th>\n",
              "      <th>Pclass</th>\n",
              "      <th>Name</th>\n",
              "      <th>Sex</th>\n",
              "      <th>Age</th>\n",
              "      <th>SibSp</th>\n",
              "      <th>Parch</th>\n",
              "      <th>Ticket</th>\n",
              "      <th>Fare</th>\n",
              "      <th>Cabin</th>\n",
              "      <th>Embarked</th>\n",
              "    </tr>\n",
              "  </thead>\n",
              "  <tbody>\n",
              "    <tr>\n",
              "      <th>0</th>\n",
              "      <td>1</td>\n",
              "      <td>0</td>\n",
              "      <td>3</td>\n",
              "      <td>Braund, Mr. Owen Harris</td>\n",
              "      <td>male</td>\n",
              "      <td>22.0</td>\n",
              "      <td>1</td>\n",
              "      <td>0</td>\n",
              "      <td>A/5 21171</td>\n",
              "      <td>7.2500</td>\n",
              "      <td>NaN</td>\n",
              "      <td>S</td>\n",
              "    </tr>\n",
              "    <tr>\n",
              "      <th>1</th>\n",
              "      <td>2</td>\n",
              "      <td>1</td>\n",
              "      <td>1</td>\n",
              "      <td>Cumings, Mrs. John Bradley (Florence Briggs Th...</td>\n",
              "      <td>female</td>\n",
              "      <td>38.0</td>\n",
              "      <td>1</td>\n",
              "      <td>0</td>\n",
              "      <td>PC 17599</td>\n",
              "      <td>71.2833</td>\n",
              "      <td>C85</td>\n",
              "      <td>C</td>\n",
              "    </tr>\n",
              "    <tr>\n",
              "      <th>2</th>\n",
              "      <td>3</td>\n",
              "      <td>1</td>\n",
              "      <td>3</td>\n",
              "      <td>Heikkinen, Miss. Laina</td>\n",
              "      <td>female</td>\n",
              "      <td>26.0</td>\n",
              "      <td>0</td>\n",
              "      <td>0</td>\n",
              "      <td>STON/O2. 3101282</td>\n",
              "      <td>7.9250</td>\n",
              "      <td>NaN</td>\n",
              "      <td>S</td>\n",
              "    </tr>\n",
              "    <tr>\n",
              "      <th>3</th>\n",
              "      <td>4</td>\n",
              "      <td>1</td>\n",
              "      <td>1</td>\n",
              "      <td>Futrelle, Mrs. Jacques Heath (Lily May Peel)</td>\n",
              "      <td>female</td>\n",
              "      <td>35.0</td>\n",
              "      <td>1</td>\n",
              "      <td>0</td>\n",
              "      <td>113803</td>\n",
              "      <td>53.1000</td>\n",
              "      <td>C123</td>\n",
              "      <td>S</td>\n",
              "    </tr>\n",
              "    <tr>\n",
              "      <th>4</th>\n",
              "      <td>5</td>\n",
              "      <td>0</td>\n",
              "      <td>3</td>\n",
              "      <td>Allen, Mr. William Henry</td>\n",
              "      <td>male</td>\n",
              "      <td>35.0</td>\n",
              "      <td>0</td>\n",
              "      <td>0</td>\n",
              "      <td>373450</td>\n",
              "      <td>8.0500</td>\n",
              "      <td>NaN</td>\n",
              "      <td>S</td>\n",
              "    </tr>\n",
              "  </tbody>\n",
              "</table>\n",
              "</div>"
            ],
            "text/plain": [
              "   PassengerId  Survived  Pclass  ...     Fare Cabin  Embarked\n",
              "0            1         0       3  ...   7.2500   NaN         S\n",
              "1            2         1       1  ...  71.2833   C85         C\n",
              "2            3         1       3  ...   7.9250   NaN         S\n",
              "3            4         1       1  ...  53.1000  C123         S\n",
              "4            5         0       3  ...   8.0500   NaN         S\n",
              "\n",
              "[5 rows x 12 columns]"
            ]
          },
          "metadata": {
            "tags": []
          },
          "execution_count": 6
        }
      ]
    },
    {
      "cell_type": "code",
      "metadata": {
        "id": "0mTlhlk-qAHM",
        "colab_type": "code",
        "colab": {
          "base_uri": "https://localhost:8080/",
          "height": 204
        },
        "outputId": "95a607d0-704e-45d2-cbae-51ea3d8ed236"
      },
      "source": [
        "# dataset para teste\n",
        "data_test.head()"
      ],
      "execution_count": 7,
      "outputs": [
        {
          "output_type": "execute_result",
          "data": {
            "text/html": [
              "<div>\n",
              "<style scoped>\n",
              "    .dataframe tbody tr th:only-of-type {\n",
              "        vertical-align: middle;\n",
              "    }\n",
              "\n",
              "    .dataframe tbody tr th {\n",
              "        vertical-align: top;\n",
              "    }\n",
              "\n",
              "    .dataframe thead th {\n",
              "        text-align: right;\n",
              "    }\n",
              "</style>\n",
              "<table border=\"1\" class=\"dataframe\">\n",
              "  <thead>\n",
              "    <tr style=\"text-align: right;\">\n",
              "      <th></th>\n",
              "      <th>PassengerId</th>\n",
              "      <th>Pclass</th>\n",
              "      <th>Name</th>\n",
              "      <th>Sex</th>\n",
              "      <th>Age</th>\n",
              "      <th>SibSp</th>\n",
              "      <th>Parch</th>\n",
              "      <th>Ticket</th>\n",
              "      <th>Fare</th>\n",
              "      <th>Cabin</th>\n",
              "      <th>Embarked</th>\n",
              "    </tr>\n",
              "  </thead>\n",
              "  <tbody>\n",
              "    <tr>\n",
              "      <th>0</th>\n",
              "      <td>892</td>\n",
              "      <td>3</td>\n",
              "      <td>Kelly, Mr. James</td>\n",
              "      <td>male</td>\n",
              "      <td>34.5</td>\n",
              "      <td>0</td>\n",
              "      <td>0</td>\n",
              "      <td>330911</td>\n",
              "      <td>7.8292</td>\n",
              "      <td>NaN</td>\n",
              "      <td>Q</td>\n",
              "    </tr>\n",
              "    <tr>\n",
              "      <th>1</th>\n",
              "      <td>893</td>\n",
              "      <td>3</td>\n",
              "      <td>Wilkes, Mrs. James (Ellen Needs)</td>\n",
              "      <td>female</td>\n",
              "      <td>47.0</td>\n",
              "      <td>1</td>\n",
              "      <td>0</td>\n",
              "      <td>363272</td>\n",
              "      <td>7.0000</td>\n",
              "      <td>NaN</td>\n",
              "      <td>S</td>\n",
              "    </tr>\n",
              "    <tr>\n",
              "      <th>2</th>\n",
              "      <td>894</td>\n",
              "      <td>2</td>\n",
              "      <td>Myles, Mr. Thomas Francis</td>\n",
              "      <td>male</td>\n",
              "      <td>62.0</td>\n",
              "      <td>0</td>\n",
              "      <td>0</td>\n",
              "      <td>240276</td>\n",
              "      <td>9.6875</td>\n",
              "      <td>NaN</td>\n",
              "      <td>Q</td>\n",
              "    </tr>\n",
              "    <tr>\n",
              "      <th>3</th>\n",
              "      <td>895</td>\n",
              "      <td>3</td>\n",
              "      <td>Wirz, Mr. Albert</td>\n",
              "      <td>male</td>\n",
              "      <td>27.0</td>\n",
              "      <td>0</td>\n",
              "      <td>0</td>\n",
              "      <td>315154</td>\n",
              "      <td>8.6625</td>\n",
              "      <td>NaN</td>\n",
              "      <td>S</td>\n",
              "    </tr>\n",
              "    <tr>\n",
              "      <th>4</th>\n",
              "      <td>896</td>\n",
              "      <td>3</td>\n",
              "      <td>Hirvonen, Mrs. Alexander (Helga E Lindqvist)</td>\n",
              "      <td>female</td>\n",
              "      <td>22.0</td>\n",
              "      <td>1</td>\n",
              "      <td>1</td>\n",
              "      <td>3101298</td>\n",
              "      <td>12.2875</td>\n",
              "      <td>NaN</td>\n",
              "      <td>S</td>\n",
              "    </tr>\n",
              "  </tbody>\n",
              "</table>\n",
              "</div>"
            ],
            "text/plain": [
              "   PassengerId  Pclass  ... Cabin Embarked\n",
              "0          892       3  ...   NaN        Q\n",
              "1          893       3  ...   NaN        S\n",
              "2          894       2  ...   NaN        Q\n",
              "3          895       3  ...   NaN        S\n",
              "4          896       3  ...   NaN        S\n",
              "\n",
              "[5 rows x 11 columns]"
            ]
          },
          "metadata": {
            "tags": []
          },
          "execution_count": 7
        }
      ]
    },
    {
      "cell_type": "markdown",
      "metadata": {
        "id": "NeQVzLq1kmGu",
        "colab_type": "text"
      },
      "source": [
        "As features com seus respectivos significados, segundo a [documentação](https://www.kaggle.com/c/titanic/data), são:\n",
        "\n",
        "\n",
        "**Survived** - Feature booleana que identifica se o indivíduo morreu ou sobreviveu ao acidente. Variável target.\n",
        "\n",
        "**Pclass**\t- Classe em que o passageiro foi alocado no navio.\n",
        "\n",
        "**Sex** -\tSexo\t\n",
        "\n",
        "**Age** - Idade\n",
        "\n",
        "**sibsp**\t- Identifica as relações familiares do passageiro em grau de irmão, irmã, meio-irmão, meia-irmão, marido e esposa.\t\n",
        "\n",
        "**Parch** -\tIdentifica as relações familiares do passageiro em grau de mãe, pai, filho, filha, enteado, enteada. Se alguma criança viaja com a babá, será considerada = 0.\n",
        "\n",
        "**Ticket**\t- Número do ticket/bilhte.\t\n",
        "\n",
        "**Fare** - \tTarifa de passageiro.\t\n",
        "\n",
        "**Cabin** - Número da cabine.\n",
        "\n",
        "**Embarked** -\tPorto de embarcação.\n",
        "\n",
        "**Name** - Nome do passageiro.\n",
        "\n",
        "**PassengerId** - Id do passageiro."
      ]
    },
    {
      "cell_type": "markdown",
      "metadata": {
        "id": "dZPU81oKEvcb",
        "colab_type": "text"
      },
      "source": [
        "## 4. Data Wrangling\n"
      ]
    },
    {
      "cell_type": "markdown",
      "metadata": {
        "id": "gf_FTYK5kEZ6",
        "colab_type": "text"
      },
      "source": [
        "Antes de realizarmos uma análise exploratória e aplicações dos modelos, é necessário que realizemos algumas operações de limpeza e transformação dos datasets. Para isso, será criado algumas funções que irão suportar esses processos.\n"
      ]
    },
    {
      "cell_type": "markdown",
      "metadata": {
        "id": "qUQAzUw3_jp5",
        "colab_type": "text"
      },
      "source": [
        "Iremos verificar se existem dados missing(faltantes) em nosso dataset."
      ]
    },
    {
      "cell_type": "code",
      "metadata": {
        "id": "t75i0HKO87lG",
        "colab_type": "code",
        "colab": {
          "base_uri": "https://localhost:8080/",
          "height": 238
        },
        "outputId": "85817678-0293-4eeb-ce5d-e81d04205730"
      },
      "source": [
        "data_train.isnull().sum()"
      ],
      "execution_count": 8,
      "outputs": [
        {
          "output_type": "execute_result",
          "data": {
            "text/plain": [
              "PassengerId      0\n",
              "Survived         0\n",
              "Pclass           0\n",
              "Name             0\n",
              "Sex              0\n",
              "Age            177\n",
              "SibSp            0\n",
              "Parch            0\n",
              "Ticket           0\n",
              "Fare             0\n",
              "Cabin          687\n",
              "Embarked         2\n",
              "dtype: int64"
            ]
          },
          "metadata": {
            "tags": []
          },
          "execution_count": 8
        }
      ]
    },
    {
      "cell_type": "code",
      "metadata": {
        "id": "M82Qro-Id2Cz",
        "colab_type": "code",
        "colab": {
          "base_uri": "https://localhost:8080/",
          "height": 221
        },
        "outputId": "0352e8fc-6ea2-4aa5-96fd-7d4ba2148c2c"
      },
      "source": [
        "data_test.isnull().sum()"
      ],
      "execution_count": 9,
      "outputs": [
        {
          "output_type": "execute_result",
          "data": {
            "text/plain": [
              "PassengerId      0\n",
              "Pclass           0\n",
              "Name             0\n",
              "Sex              0\n",
              "Age             86\n",
              "SibSp            0\n",
              "Parch            0\n",
              "Ticket           0\n",
              "Fare             1\n",
              "Cabin          327\n",
              "Embarked         0\n",
              "dtype: int64"
            ]
          },
          "metadata": {
            "tags": []
          },
          "execution_count": 9
        }
      ]
    },
    {
      "cell_type": "markdown",
      "metadata": {
        "id": "fxDSQlFTAkb4",
        "colab_type": "text"
      },
      "source": [
        "Podemos observar que a feature Age(Idade), Embarked(Ponto de Embarque) e Fare possuem valores missing (feature **Cabin** não irá fazer parte do modelo). Portanto, para que os algoritmos de Machine Learning utilizados performem de maneira relevante, iremos inputar um valor para esses itens. \n",
        "\n"
      ]
    },
    {
      "cell_type": "markdown",
      "metadata": {
        "id": "M0fyyu4M2a9_",
        "colab_type": "text"
      },
      "source": [
        "Para a feature Age, iremos considerar a mediana dos valores contidos, para que não haja influência de *outliers*."
      ]
    },
    {
      "cell_type": "code",
      "metadata": {
        "id": "lFiubCTXdvRT",
        "colab_type": "code",
        "colab": {}
      },
      "source": [
        "def median_age(dataset):\n",
        "\n",
        "  MedianAge = dataset['Age'].median(skipna = True)\n",
        "  dataset['Age'].fillna(MedianAge, inplace = True)\n",
        "\n",
        "  return dataset"
      ],
      "execution_count": 10,
      "outputs": []
    },
    {
      "cell_type": "markdown",
      "metadata": {
        "id": "fldC7awl2f4b",
        "colab_type": "text"
      },
      "source": [
        "Para a feature Embarked, utilizaremos a moda da feature, isto é, iremos considerar o valor que apresenta maior frequência. "
      ]
    },
    {
      "cell_type": "code",
      "metadata": {
        "id": "QwmNwCKCejo8",
        "colab_type": "code",
        "colab": {}
      },
      "source": [
        "def mode_embarked(dataset):\n",
        "\n",
        "  ModeEmbarked = dataset['Embarked'].mode()\n",
        "\n",
        "  # Para que possamos preencher os valores nulos da feature Embarked é necessário converter o tipo de retorno de Pandas.Series para str. Logo, temos:\n",
        "  ModeEmbarkedValue =  max(ModeEmbarked)\n",
        "\n",
        "  dataset['Embarked'].fillna(ModeEmbarkedValue, inplace = True)\n",
        "\n",
        "  return dataset"
      ],
      "execution_count": 11,
      "outputs": []
    },
    {
      "cell_type": "code",
      "metadata": {
        "id": "_gKAFslTfQjx",
        "colab_type": "code",
        "colab": {}
      },
      "source": [
        "def median_fare(dataset):\n",
        "    \n",
        "    MedianFare = dataset['Fare'].median(skipna = True)\n",
        "    dataset['Fare'].fillna(MedianFare, inplace = True)\n",
        "\n",
        "    return dataset"
      ],
      "execution_count": 12,
      "outputs": []
    },
    {
      "cell_type": "code",
      "metadata": {
        "id": "PsDwynXwfqqV",
        "colab_type": "code",
        "colab": {}
      },
      "source": [
        "#aplicando as funções de limpeza de dados\n",
        "\n",
        "train_df = median_age(data_train)\n",
        "train_df = mode_embarked(train_df)"
      ],
      "execution_count": 13,
      "outputs": []
    },
    {
      "cell_type": "code",
      "metadata": {
        "id": "OFndyLKLIIk7",
        "colab_type": "code",
        "colab": {
          "base_uri": "https://localhost:8080/",
          "height": 359
        },
        "outputId": "370fc3fb-d4ee-4e86-ee66-53cc69022a7b"
      },
      "source": [
        "train_df.head(10)"
      ],
      "execution_count": 14,
      "outputs": [
        {
          "output_type": "execute_result",
          "data": {
            "text/html": [
              "<div>\n",
              "<style scoped>\n",
              "    .dataframe tbody tr th:only-of-type {\n",
              "        vertical-align: middle;\n",
              "    }\n",
              "\n",
              "    .dataframe tbody tr th {\n",
              "        vertical-align: top;\n",
              "    }\n",
              "\n",
              "    .dataframe thead th {\n",
              "        text-align: right;\n",
              "    }\n",
              "</style>\n",
              "<table border=\"1\" class=\"dataframe\">\n",
              "  <thead>\n",
              "    <tr style=\"text-align: right;\">\n",
              "      <th></th>\n",
              "      <th>PassengerId</th>\n",
              "      <th>Survived</th>\n",
              "      <th>Pclass</th>\n",
              "      <th>Name</th>\n",
              "      <th>Sex</th>\n",
              "      <th>Age</th>\n",
              "      <th>SibSp</th>\n",
              "      <th>Parch</th>\n",
              "      <th>Ticket</th>\n",
              "      <th>Fare</th>\n",
              "      <th>Cabin</th>\n",
              "      <th>Embarked</th>\n",
              "    </tr>\n",
              "  </thead>\n",
              "  <tbody>\n",
              "    <tr>\n",
              "      <th>0</th>\n",
              "      <td>1</td>\n",
              "      <td>0</td>\n",
              "      <td>3</td>\n",
              "      <td>Braund, Mr. Owen Harris</td>\n",
              "      <td>male</td>\n",
              "      <td>22.0</td>\n",
              "      <td>1</td>\n",
              "      <td>0</td>\n",
              "      <td>A/5 21171</td>\n",
              "      <td>7.2500</td>\n",
              "      <td>NaN</td>\n",
              "      <td>S</td>\n",
              "    </tr>\n",
              "    <tr>\n",
              "      <th>1</th>\n",
              "      <td>2</td>\n",
              "      <td>1</td>\n",
              "      <td>1</td>\n",
              "      <td>Cumings, Mrs. John Bradley (Florence Briggs Th...</td>\n",
              "      <td>female</td>\n",
              "      <td>38.0</td>\n",
              "      <td>1</td>\n",
              "      <td>0</td>\n",
              "      <td>PC 17599</td>\n",
              "      <td>71.2833</td>\n",
              "      <td>C85</td>\n",
              "      <td>C</td>\n",
              "    </tr>\n",
              "    <tr>\n",
              "      <th>2</th>\n",
              "      <td>3</td>\n",
              "      <td>1</td>\n",
              "      <td>3</td>\n",
              "      <td>Heikkinen, Miss. Laina</td>\n",
              "      <td>female</td>\n",
              "      <td>26.0</td>\n",
              "      <td>0</td>\n",
              "      <td>0</td>\n",
              "      <td>STON/O2. 3101282</td>\n",
              "      <td>7.9250</td>\n",
              "      <td>NaN</td>\n",
              "      <td>S</td>\n",
              "    </tr>\n",
              "    <tr>\n",
              "      <th>3</th>\n",
              "      <td>4</td>\n",
              "      <td>1</td>\n",
              "      <td>1</td>\n",
              "      <td>Futrelle, Mrs. Jacques Heath (Lily May Peel)</td>\n",
              "      <td>female</td>\n",
              "      <td>35.0</td>\n",
              "      <td>1</td>\n",
              "      <td>0</td>\n",
              "      <td>113803</td>\n",
              "      <td>53.1000</td>\n",
              "      <td>C123</td>\n",
              "      <td>S</td>\n",
              "    </tr>\n",
              "    <tr>\n",
              "      <th>4</th>\n",
              "      <td>5</td>\n",
              "      <td>0</td>\n",
              "      <td>3</td>\n",
              "      <td>Allen, Mr. William Henry</td>\n",
              "      <td>male</td>\n",
              "      <td>35.0</td>\n",
              "      <td>0</td>\n",
              "      <td>0</td>\n",
              "      <td>373450</td>\n",
              "      <td>8.0500</td>\n",
              "      <td>NaN</td>\n",
              "      <td>S</td>\n",
              "    </tr>\n",
              "    <tr>\n",
              "      <th>5</th>\n",
              "      <td>6</td>\n",
              "      <td>0</td>\n",
              "      <td>3</td>\n",
              "      <td>Moran, Mr. James</td>\n",
              "      <td>male</td>\n",
              "      <td>28.0</td>\n",
              "      <td>0</td>\n",
              "      <td>0</td>\n",
              "      <td>330877</td>\n",
              "      <td>8.4583</td>\n",
              "      <td>NaN</td>\n",
              "      <td>Q</td>\n",
              "    </tr>\n",
              "    <tr>\n",
              "      <th>6</th>\n",
              "      <td>7</td>\n",
              "      <td>0</td>\n",
              "      <td>1</td>\n",
              "      <td>McCarthy, Mr. Timothy J</td>\n",
              "      <td>male</td>\n",
              "      <td>54.0</td>\n",
              "      <td>0</td>\n",
              "      <td>0</td>\n",
              "      <td>17463</td>\n",
              "      <td>51.8625</td>\n",
              "      <td>E46</td>\n",
              "      <td>S</td>\n",
              "    </tr>\n",
              "    <tr>\n",
              "      <th>7</th>\n",
              "      <td>8</td>\n",
              "      <td>0</td>\n",
              "      <td>3</td>\n",
              "      <td>Palsson, Master. Gosta Leonard</td>\n",
              "      <td>male</td>\n",
              "      <td>2.0</td>\n",
              "      <td>3</td>\n",
              "      <td>1</td>\n",
              "      <td>349909</td>\n",
              "      <td>21.0750</td>\n",
              "      <td>NaN</td>\n",
              "      <td>S</td>\n",
              "    </tr>\n",
              "    <tr>\n",
              "      <th>8</th>\n",
              "      <td>9</td>\n",
              "      <td>1</td>\n",
              "      <td>3</td>\n",
              "      <td>Johnson, Mrs. Oscar W (Elisabeth Vilhelmina Berg)</td>\n",
              "      <td>female</td>\n",
              "      <td>27.0</td>\n",
              "      <td>0</td>\n",
              "      <td>2</td>\n",
              "      <td>347742</td>\n",
              "      <td>11.1333</td>\n",
              "      <td>NaN</td>\n",
              "      <td>S</td>\n",
              "    </tr>\n",
              "    <tr>\n",
              "      <th>9</th>\n",
              "      <td>10</td>\n",
              "      <td>1</td>\n",
              "      <td>2</td>\n",
              "      <td>Nasser, Mrs. Nicholas (Adele Achem)</td>\n",
              "      <td>female</td>\n",
              "      <td>14.0</td>\n",
              "      <td>1</td>\n",
              "      <td>0</td>\n",
              "      <td>237736</td>\n",
              "      <td>30.0708</td>\n",
              "      <td>NaN</td>\n",
              "      <td>C</td>\n",
              "    </tr>\n",
              "  </tbody>\n",
              "</table>\n",
              "</div>"
            ],
            "text/plain": [
              "   PassengerId  Survived  Pclass  ...     Fare Cabin  Embarked\n",
              "0            1         0       3  ...   7.2500   NaN         S\n",
              "1            2         1       1  ...  71.2833   C85         C\n",
              "2            3         1       3  ...   7.9250   NaN         S\n",
              "3            4         1       1  ...  53.1000  C123         S\n",
              "4            5         0       3  ...   8.0500   NaN         S\n",
              "5            6         0       3  ...   8.4583   NaN         Q\n",
              "6            7         0       1  ...  51.8625   E46         S\n",
              "7            8         0       3  ...  21.0750   NaN         S\n",
              "8            9         1       3  ...  11.1333   NaN         S\n",
              "9           10         1       2  ...  30.0708   NaN         C\n",
              "\n",
              "[10 rows x 12 columns]"
            ]
          },
          "metadata": {
            "tags": []
          },
          "execution_count": 14
        }
      ]
    },
    {
      "cell_type": "markdown",
      "metadata": {
        "id": "8Cs0KJcbGdpe",
        "colab_type": "text"
      },
      "source": [
        "É possível verificar que as features **Sex** e **Embarked** são do tipo categórico. Para utilização de alguns algoritmos preditivos é necessário que ambas se tornem numéricas. Logo, utilizaremos  as transformações baseados no conjunto *LabelEncoder* e o método da lib pandas *GetDummies*."
      ]
    },
    {
      "cell_type": "code",
      "metadata": {
        "id": "Dg9HQsVHtTIn",
        "colab_type": "code",
        "colab": {}
      },
      "source": [
        "from sklearn.preprocessing import LabelEncoder"
      ],
      "execution_count": 15,
      "outputs": []
    },
    {
      "cell_type": "code",
      "metadata": {
        "id": "HFHGKfoPqqU4",
        "colab_type": "code",
        "colab": {}
      },
      "source": [
        "# Categorização númerica da feature Sex\n",
        "\n",
        "def codify_sex(dataset):\n",
        "\n",
        "  \"\"\"\n",
        "    Função que realiza o processo de feature engineering com a variável Sex\n",
        "\n",
        "    dataset: dataframe que possui a coluna Sex.\n",
        "  \"\"\"\n",
        "  \n",
        "  # instanciando as classes\n",
        "  labelencoder = LabelEncoder()   \n",
        "\n",
        "  # aplicando a categorização númerica\n",
        "  dataset['SexCode'] = labelencoder.fit_transform(dataset['Sex'])\n",
        "  \n",
        "  return dataset "
      ],
      "execution_count": 16,
      "outputs": []
    },
    {
      "cell_type": "code",
      "metadata": {
        "id": "J5dYcu8kimbj",
        "colab_type": "code",
        "colab": {}
      },
      "source": [
        "# Processo de feature engineering com o atributo Embarked\n",
        "\n",
        "def codify_embarked(dataset):\n",
        "  \"\"\"\n",
        "    Função que realiza o processo de feature engineering com a variável Embarked\n",
        "\n",
        "    dataset: dataframe que possui a coluna Embarked.\n",
        "  \"\"\"\n",
        "  df_embarked = pd.get_dummies(dataset.Embarked, prefix='Embarked')\n",
        "\n",
        "  new_dataset = dataset.join(df_embarked)\n",
        "\n",
        "  return new_dataset"
      ],
      "execution_count": 17,
      "outputs": []
    },
    {
      "cell_type": "code",
      "metadata": {
        "id": "Z-r7nBf87CMW",
        "colab_type": "code",
        "colab": {}
      },
      "source": [
        " def drop_columns(dataset):\n",
        "  \"\"\"\n",
        "    Função para excluir colunas que não geram valor para a análise e modelo.\n",
        "\n",
        "    dataset: dataframe em que será excluídos as colunas.\n",
        "  \"\"\"\n",
        "  \n",
        "  new_dataset = dataset.drop(['PassengerId', 'Name', 'Ticket', 'Cabin', 'Sex', 'Embarked'], axis = 1)\n",
        "  return new_dataset"
      ],
      "execution_count": 18,
      "outputs": []
    },
    {
      "cell_type": "code",
      "metadata": {
        "id": "MzL5e83Z4yja",
        "colab_type": "code",
        "colab": {}
      },
      "source": [
        "# aplicando as funções \n",
        "train_df = codify_sex(data_train)"
      ],
      "execution_count": 19,
      "outputs": []
    },
    {
      "cell_type": "code",
      "metadata": {
        "id": "DMeIC5ZW-Dtu",
        "colab_type": "code",
        "colab": {}
      },
      "source": [
        "train_df = codify_embarked(train_df)"
      ],
      "execution_count": 20,
      "outputs": []
    },
    {
      "cell_type": "code",
      "metadata": {
        "id": "k9gGwVJW98yk",
        "colab_type": "code",
        "colab": {}
      },
      "source": [
        "train_df = drop_columns(train_df)"
      ],
      "execution_count": 21,
      "outputs": []
    },
    {
      "cell_type": "markdown",
      "metadata": {
        "id": "7wYJVXrYJdr-",
        "colab_type": "text"
      },
      "source": [
        "## 5. Exploratory Data Analysis\n"
      ]
    },
    {
      "cell_type": "markdown",
      "metadata": {
        "id": "sd2RFwnhJtSw",
        "colab_type": "text"
      },
      "source": [
        "A etapa subsequente a Limpeza dos dados é a análise exploratória, onde nós iremos responder perguntas que irão nos ajudar a entender a base de dados em questão."
      ]
    },
    {
      "cell_type": "markdown",
      "metadata": {
        "id": "2uqrdAfTZkyt",
        "colab_type": "text"
      },
      "source": [
        "**Disclaimer:** Feature SexCode = Female -> 0 e Male -> 1"
      ]
    },
    {
      "cell_type": "code",
      "metadata": {
        "id": "xOvS8BZ8UzEh",
        "colab_type": "code",
        "colab": {
          "base_uri": "https://localhost:8080/",
          "height": 51
        },
        "outputId": "f43a97de-94bc-443c-9532-2c606713212a"
      },
      "source": [
        "import matplotlib.pyplot as plt\n",
        "import warnings\n",
        "import seaborn as sns\n",
        "import numpy as np \n",
        "\n",
        "%matplotlib inline \n",
        "warnings.filterwarnings(\"ignore\", category=DeprecationWarning)\n",
        "warnings.filterwarnings(\"ignore\", category=FutureWarning)"
      ],
      "execution_count": 22,
      "outputs": [
        {
          "output_type": "stream",
          "text": [
            "/usr/local/lib/python3.6/dist-packages/statsmodels/tools/_testing.py:19: FutureWarning: pandas.util.testing is deprecated. Use the functions in the public API at pandas.testing instead.\n",
            "  import pandas.util.testing as tm\n"
          ],
          "name": "stderr"
        }
      ]
    },
    {
      "cell_type": "markdown",
      "metadata": {
        "id": "gweuuvpg9C2q",
        "colab_type": "text"
      },
      "source": [
        "#### 5.1 Metadados e Dados Estatísticos da amostra."
      ]
    },
    {
      "cell_type": "code",
      "metadata": {
        "id": "_KmrOlTRB0F0",
        "colab_type": "code",
        "colab": {
          "base_uri": "https://localhost:8080/",
          "height": 306
        },
        "outputId": "22b669e6-91a3-4fe3-f1e2-3c7cdf53a250"
      },
      "source": [
        "train_df.info()"
      ],
      "execution_count": 23,
      "outputs": [
        {
          "output_type": "stream",
          "text": [
            "<class 'pandas.core.frame.DataFrame'>\n",
            "RangeIndex: 891 entries, 0 to 890\n",
            "Data columns (total 10 columns):\n",
            " #   Column      Non-Null Count  Dtype  \n",
            "---  ------      --------------  -----  \n",
            " 0   Survived    891 non-null    int64  \n",
            " 1   Pclass      891 non-null    int64  \n",
            " 2   Age         891 non-null    float64\n",
            " 3   SibSp       891 non-null    int64  \n",
            " 4   Parch       891 non-null    int64  \n",
            " 5   Fare        891 non-null    float64\n",
            " 6   SexCode     891 non-null    int64  \n",
            " 7   Embarked_C  891 non-null    uint8  \n",
            " 8   Embarked_Q  891 non-null    uint8  \n",
            " 9   Embarked_S  891 non-null    uint8  \n",
            "dtypes: float64(2), int64(5), uint8(3)\n",
            "memory usage: 51.5 KB\n"
          ],
          "name": "stdout"
        }
      ]
    },
    {
      "cell_type": "code",
      "metadata": {
        "id": "_Iqwre3PDoWp",
        "colab_type": "code",
        "colab": {
          "base_uri": "https://localhost:8080/",
          "height": 34
        },
        "outputId": "499e47e8-4863-4022-ee08-ae699133b403"
      },
      "source": [
        "# O dataset apresenta 891 instâncias e 9 features\n",
        "\n",
        "train_df.shape"
      ],
      "execution_count": 24,
      "outputs": [
        {
          "output_type": "execute_result",
          "data": {
            "text/plain": [
              "(891, 10)"
            ]
          },
          "metadata": {
            "tags": []
          },
          "execution_count": 24
        }
      ]
    },
    {
      "cell_type": "code",
      "metadata": {
        "id": "_Lm8eduB9IS6",
        "colab_type": "code",
        "colab": {
          "base_uri": "https://localhost:8080/",
          "height": 297
        },
        "outputId": "9b491ade-4f2f-422b-eb39-84ab46d0ccac"
      },
      "source": [
        "train_df.describe()"
      ],
      "execution_count": 25,
      "outputs": [
        {
          "output_type": "execute_result",
          "data": {
            "text/html": [
              "<div>\n",
              "<style scoped>\n",
              "    .dataframe tbody tr th:only-of-type {\n",
              "        vertical-align: middle;\n",
              "    }\n",
              "\n",
              "    .dataframe tbody tr th {\n",
              "        vertical-align: top;\n",
              "    }\n",
              "\n",
              "    .dataframe thead th {\n",
              "        text-align: right;\n",
              "    }\n",
              "</style>\n",
              "<table border=\"1\" class=\"dataframe\">\n",
              "  <thead>\n",
              "    <tr style=\"text-align: right;\">\n",
              "      <th></th>\n",
              "      <th>Survived</th>\n",
              "      <th>Pclass</th>\n",
              "      <th>Age</th>\n",
              "      <th>SibSp</th>\n",
              "      <th>Parch</th>\n",
              "      <th>Fare</th>\n",
              "      <th>SexCode</th>\n",
              "      <th>Embarked_C</th>\n",
              "      <th>Embarked_Q</th>\n",
              "      <th>Embarked_S</th>\n",
              "    </tr>\n",
              "  </thead>\n",
              "  <tbody>\n",
              "    <tr>\n",
              "      <th>count</th>\n",
              "      <td>891.000000</td>\n",
              "      <td>891.000000</td>\n",
              "      <td>891.000000</td>\n",
              "      <td>891.000000</td>\n",
              "      <td>891.000000</td>\n",
              "      <td>891.000000</td>\n",
              "      <td>891.000000</td>\n",
              "      <td>891.000000</td>\n",
              "      <td>891.000000</td>\n",
              "      <td>891.000000</td>\n",
              "    </tr>\n",
              "    <tr>\n",
              "      <th>mean</th>\n",
              "      <td>0.383838</td>\n",
              "      <td>2.308642</td>\n",
              "      <td>29.361582</td>\n",
              "      <td>0.523008</td>\n",
              "      <td>0.381594</td>\n",
              "      <td>32.204208</td>\n",
              "      <td>0.647587</td>\n",
              "      <td>0.188552</td>\n",
              "      <td>0.086420</td>\n",
              "      <td>0.725028</td>\n",
              "    </tr>\n",
              "    <tr>\n",
              "      <th>std</th>\n",
              "      <td>0.486592</td>\n",
              "      <td>0.836071</td>\n",
              "      <td>13.019697</td>\n",
              "      <td>1.102743</td>\n",
              "      <td>0.806057</td>\n",
              "      <td>49.693429</td>\n",
              "      <td>0.477990</td>\n",
              "      <td>0.391372</td>\n",
              "      <td>0.281141</td>\n",
              "      <td>0.446751</td>\n",
              "    </tr>\n",
              "    <tr>\n",
              "      <th>min</th>\n",
              "      <td>0.000000</td>\n",
              "      <td>1.000000</td>\n",
              "      <td>0.420000</td>\n",
              "      <td>0.000000</td>\n",
              "      <td>0.000000</td>\n",
              "      <td>0.000000</td>\n",
              "      <td>0.000000</td>\n",
              "      <td>0.000000</td>\n",
              "      <td>0.000000</td>\n",
              "      <td>0.000000</td>\n",
              "    </tr>\n",
              "    <tr>\n",
              "      <th>25%</th>\n",
              "      <td>0.000000</td>\n",
              "      <td>2.000000</td>\n",
              "      <td>22.000000</td>\n",
              "      <td>0.000000</td>\n",
              "      <td>0.000000</td>\n",
              "      <td>7.910400</td>\n",
              "      <td>0.000000</td>\n",
              "      <td>0.000000</td>\n",
              "      <td>0.000000</td>\n",
              "      <td>0.000000</td>\n",
              "    </tr>\n",
              "    <tr>\n",
              "      <th>50%</th>\n",
              "      <td>0.000000</td>\n",
              "      <td>3.000000</td>\n",
              "      <td>28.000000</td>\n",
              "      <td>0.000000</td>\n",
              "      <td>0.000000</td>\n",
              "      <td>14.454200</td>\n",
              "      <td>1.000000</td>\n",
              "      <td>0.000000</td>\n",
              "      <td>0.000000</td>\n",
              "      <td>1.000000</td>\n",
              "    </tr>\n",
              "    <tr>\n",
              "      <th>75%</th>\n",
              "      <td>1.000000</td>\n",
              "      <td>3.000000</td>\n",
              "      <td>35.000000</td>\n",
              "      <td>1.000000</td>\n",
              "      <td>0.000000</td>\n",
              "      <td>31.000000</td>\n",
              "      <td>1.000000</td>\n",
              "      <td>0.000000</td>\n",
              "      <td>0.000000</td>\n",
              "      <td>1.000000</td>\n",
              "    </tr>\n",
              "    <tr>\n",
              "      <th>max</th>\n",
              "      <td>1.000000</td>\n",
              "      <td>3.000000</td>\n",
              "      <td>80.000000</td>\n",
              "      <td>8.000000</td>\n",
              "      <td>6.000000</td>\n",
              "      <td>512.329200</td>\n",
              "      <td>1.000000</td>\n",
              "      <td>1.000000</td>\n",
              "      <td>1.000000</td>\n",
              "      <td>1.000000</td>\n",
              "    </tr>\n",
              "  </tbody>\n",
              "</table>\n",
              "</div>"
            ],
            "text/plain": [
              "         Survived      Pclass         Age  ...  Embarked_C  Embarked_Q  Embarked_S\n",
              "count  891.000000  891.000000  891.000000  ...  891.000000  891.000000  891.000000\n",
              "mean     0.383838    2.308642   29.361582  ...    0.188552    0.086420    0.725028\n",
              "std      0.486592    0.836071   13.019697  ...    0.391372    0.281141    0.446751\n",
              "min      0.000000    1.000000    0.420000  ...    0.000000    0.000000    0.000000\n",
              "25%      0.000000    2.000000   22.000000  ...    0.000000    0.000000    0.000000\n",
              "50%      0.000000    3.000000   28.000000  ...    0.000000    0.000000    1.000000\n",
              "75%      1.000000    3.000000   35.000000  ...    0.000000    0.000000    1.000000\n",
              "max      1.000000    3.000000   80.000000  ...    1.000000    1.000000    1.000000\n",
              "\n",
              "[8 rows x 10 columns]"
            ]
          },
          "metadata": {
            "tags": []
          },
          "execution_count": 25
        }
      ]
    },
    {
      "cell_type": "markdown",
      "metadata": {
        "id": "RnNFh_k0A0VA",
        "colab_type": "text"
      },
      "source": [
        "A amostra possui 891 passageiros, qual o percentual de sobreviventes ?\n",
        "\n",
        "Além disso, podemos observar que a amostra possui 75% (3º quartil) de seus dados com passageiros de idades abaixo ou igual a 35 anos. \n",
        "\n",
        "Essa informação nos permite criar a seguinte hipótese: Será que o maior número de sobreviventes/mortos estão contidos nessa faixa etária ?"
      ]
    },
    {
      "cell_type": "markdown",
      "metadata": {
        "id": "yxkxtppV7ys4",
        "colab_type": "text"
      },
      "source": [
        "#### 5.2 Na amostra em análise, qual o percentual de sobreviventes ?"
      ]
    },
    {
      "cell_type": "code",
      "metadata": {
        "id": "GTHpJHncCoHJ",
        "colab_type": "code",
        "colab": {}
      },
      "source": [
        "# quantidade de sobreviventes\n",
        "survived = len(train_df.query('Survived == 1'))"
      ],
      "execution_count": 26,
      "outputs": []
    },
    {
      "cell_type": "code",
      "metadata": {
        "id": "35l2YT_cDXNa",
        "colab_type": "code",
        "colab": {
          "base_uri": "https://localhost:8080/",
          "height": 34
        },
        "outputId": "10969fb2-f86d-439f-aa74-ecce3e450a56"
      },
      "source": [
        "# percentual de sobreviventes no dataset\n",
        "\n",
        "perc = (survived/ len(train_df)) * 100\n",
        "\n",
        "print(f'O percentual de sobreviventes no dataset de treino {perc:.2f}%')"
      ],
      "execution_count": 27,
      "outputs": [
        {
          "output_type": "stream",
          "text": [
            "O percentual de sobreviventes no dataset de treino 38.38%\n"
          ],
          "name": "stdout"
        }
      ]
    },
    {
      "cell_type": "markdown",
      "metadata": {
        "id": "v7dqR_HbEYzB",
        "colab_type": "text"
      },
      "source": [
        "#### 5.3 Qual a faixa etária das grupo de pessoas que mais sobreviveram ? E que mais vieram a falecer ? "
      ]
    },
    {
      "cell_type": "code",
      "metadata": {
        "id": "B3A7ZgDjEeuf",
        "colab_type": "code",
        "colab": {
          "base_uri": "https://localhost:8080/",
          "height": 417
        },
        "outputId": "c3f1632f-7304-46a1-897f-291999a9cb7f"
      },
      "source": [
        "sns.set_style(\"whitegrid\")\n",
        "\n",
        "fig, (ax1, ax2) = plt.subplots(1, 2, figsize = (15, 6))\n",
        "\n",
        "ax1.set_title('Passageiros Sobreviventes')\n",
        "ax1.hist(train_df.query(\"Survived == 1\")['Age'], color='royalblue')\n",
        "ax1.set(xlim = (0, 70), ylim =(0, 300)) \n",
        "\n",
        "ax2.set_title('Passageiros Mortos')\n",
        "ax2.hist(train_df.query(\"Survived == 0\")['Age'], color= 'royalblue')\n",
        "ax2.set(xlim = (0, 70), ylim =(0, 300)) \n",
        "\n",
        "fig.suptitle('Análise por Idade')\n",
        "\n",
        "plt.show()"
      ],
      "execution_count": 28,
      "outputs": [
        {
          "output_type": "display_data",
          "data": {
            "image/png": "[encoded data removed]",
            "text/plain": [
              "<Figure size 1080x432 with 2 Axes>"
            ]
          },
          "metadata": {
            "tags": []
          }
        }
      ]
    },
    {
      "cell_type": "markdown",
      "metadata": {
        "id": "HiHSFcy6EhfV",
        "colab_type": "text"
      },
      "source": [
        "O gráfico acima nos permite observar que:\n",
        "\n",
        "- Existe um desbalanceamento de dados no dataset em relação à variável alvo (**Survived**).\n",
        "\n",
        "- Há concentração dos dados na faixa entre 20 a 35 anos tanto para sobreviventes quanto para mortos.\n",
        "\n"
      ]
    },
    {
      "cell_type": "markdown",
      "metadata": {
        "id": "i6L-EdKIR3dz",
        "colab_type": "text"
      },
      "source": [
        "#### 5.4 Existem features altamente correlacionadas ? "
      ]
    },
    {
      "cell_type": "code",
      "metadata": {
        "id": "1YImGNkgqfnd",
        "colab_type": "code",
        "colab": {
          "base_uri": "https://localhost:8080/",
          "height": 662
        },
        "outputId": "c543ed9e-8001-4c54-f121-161c4db04182"
      },
      "source": [
        "corr = train_df.corr()\n",
        "\n",
        "mask = np.zeros_like(train_df.corr())\n",
        "\n",
        "mask[np.triu_indices_from(mask)] = True\n",
        "\n",
        "with sns.axes_style(\"white\"):\n",
        "\n",
        "    plt.figure(figsize=(10, 10))\n",
        "    \n",
        "    plt.title('Heatmap - Correlation Feature',\n",
        "               {'fontsize': 'x-large',\n",
        "              'fontweight' : 'bold'})\n",
        "    \n",
        "    ax = sns.heatmap(corr, \n",
        "                     mask=mask, \n",
        "                     vmax=.3,  \n",
        "                     cmap='Blues',\n",
        "                     cbar=False, \n",
        "                     annot=True, \n",
        "                     linewidths=.5)\n",
        "    plt.show()"
      ],
      "execution_count": 29,
      "outputs": [
        {
          "output_type": "display_data",
          "data": {
            "image/png": "[encoded data removed]",
            "text/plain": [
              "<Figure size 720x720 with 1 Axes>"
            ]
          },
          "metadata": {
            "tags": []
          }
        }
      ]
    },
    {
      "cell_type": "markdown",
      "metadata": {
        "id": "eMI-WxzmVP98",
        "colab_type": "text"
      },
      "source": [
        "A correlação de pearson, método aplicado acima, apresenta seus resultados em um intervalo de [-1, 1], oriundos do cálculo da covariância pelos desvios padrões da amostra.\n",
        "\n",
        "A determinação da correlação entre as features é necessária para verificação do nível de colinearidade entre elas. Altas correlações implicam em muticolinearidades, ou seja, features independentes apresentam relação lineares idênticas ou fortemente idênticas forçam o modelo a caminhar para uma direção equivocada.\n",
        "\n",
        "Podemos observar que as featues **Embarked_C** e **Embarked_S** apresentam uma forte correlação, logo, ambas serão excluídas para não sofrermos problema de ajuste do modelo. "
      ]
    },
    {
      "cell_type": "code",
      "metadata": {
        "id": "JNZ_uzJqUSlC",
        "colab_type": "code",
        "colab": {}
      },
      "source": [
        "def drop_embarked(dataset):\n",
        "\n",
        "  new_dataset = dataset.drop(['Embarked_C', 'Embarked_S'], axis= 1)\n",
        "\n",
        "  return new_dataset"
      ],
      "execution_count": 30,
      "outputs": []
    },
    {
      "cell_type": "code",
      "metadata": {
        "id": "k-aMYuhgfiNB",
        "colab_type": "code",
        "colab": {}
      },
      "source": [
        "train_df = drop_embarked(train_df)"
      ],
      "execution_count": 31,
      "outputs": []
    },
    {
      "cell_type": "markdown",
      "metadata": {
        "id": "Hl-oJTU2eoTA",
        "colab_type": "text"
      },
      "source": [
        "#### 5.5 Podemos dizer que os passageiros da 1ª classe foram os mais que sobreviveram ? Qual classe teve o maior número de não sobreviventes ? O sexo apresenta alguma relevância ?\n"
      ]
    },
    {
      "cell_type": "code",
      "metadata": {
        "id": "vThABwE5J-6m",
        "colab_type": "code",
        "colab": {
          "base_uri": "https://localhost:8080/",
          "height": 383
        },
        "outputId": "8cac2439-e326-4ee9-9185-8a5d93fe0ac7"
      },
      "source": [
        " # Quantitade de passageiros por Classe\n",
        "\n",
        " sns.catplot(y= 'Pclass',\n",
        "            kind= 'count',\n",
        "            data=train_df,\n",
        "            palette=sns.color_palette(\"Blues\"),\n",
        "            legend = True,\n",
        "            order = [3, 1, 2]\n",
        "            )\n",
        "\n",
        "plt.show()"
      ],
      "execution_count": 32,
      "outputs": [
        {
          "output_type": "display_data",
          "data": {
            "image/png": "[encoded data removed]",
            "text/plain": [
              "<Figure size 360x360 with 1 Axes>"
            ]
          },
          "metadata": {
            "tags": []
          }
        }
      ]
    },
    {
      "cell_type": "markdown",
      "metadata": {
        "id": "aG-RPS4LK7zF",
        "colab_type": "text"
      },
      "source": [
        "A 3ª Classe é que possui maior númmero de passageiros. "
      ]
    },
    {
      "cell_type": "code",
      "metadata": {
        "id": "vPV4mxNSS3sN",
        "colab_type": "code",
        "colab": {
          "base_uri": "https://localhost:8080/",
          "height": 383
        },
        "outputId": "88f818a1-1d8b-4063-a996-c1ee9bd4c4f5"
      },
      "source": [
        " # Quantidade de passageiros por Sexo \n",
        " \n",
        " sns.catplot(y= 'SexCode',\n",
        "            kind= 'count',\n",
        "            data=train_df,\n",
        "            palette=sns.color_palette(\"Paired\"),\n",
        "            legend = True,\n",
        "            order = [1, 0]\n",
        "            )\n",
        "\n",
        "plt.show()"
      ],
      "execution_count": 33,
      "outputs": [
        {
          "output_type": "display_data",
          "data": {
            "image/png": "[encoded data removed]",
            "text/plain": [
              "<Figure size 360x360 with 1 Axes>"
            ]
          },
          "metadata": {
            "tags": []
          }
        }
      ]
    },
    {
      "cell_type": "markdown",
      "metadata": {
        "id": "AXQlmYXBTGRq",
        "colab_type": "text"
      },
      "source": [
        "O navio apresenta mais passageiros do sexo masculino do que feninino."
      ]
    },
    {
      "cell_type": "code",
      "metadata": {
        "id": "981OGeTur52u",
        "colab_type": "code",
        "colab": {
          "base_uri": "https://localhost:8080/",
          "height": 383
        },
        "outputId": "e90e1a73-4043-4ac1-a06e-ce50fc5307c9"
      },
      "source": [
        " # Diferença de sobreviventes por classe e sexo.\n",
        " \n",
        " sns.catplot(y= 'Pclass',\n",
        "            kind= 'count',\n",
        "            data=train_df,\n",
        "            hue = 'SexCode',\n",
        "            col = 'Survived',\n",
        "            palette=sns.color_palette(\"Paired\"),\n",
        "            legend = True\n",
        "            )\n",
        "\n",
        "plt.show()"
      ],
      "execution_count": 34,
      "outputs": [
        {
          "output_type": "display_data",
          "data": {
            "image/png": "[encoded data removed]",
            "text/plain": [
              "<Figure size 771.5x360 with 2 Axes>"
            ]
          },
          "metadata": {
            "tags": []
          }
        }
      ]
    },
    {
      "cell_type": "markdown",
      "metadata": {
        "id": "CENVg02WJX1R",
        "colab_type": "text"
      },
      "source": [
        "Pontos a serem destacados:\n",
        "\n",
        "- A 3ª classe apresenta o maior número de passageiros que não sobreviveram.\n",
        "- A 1ª classe apresenta o maior número de passageiros que sobreviveram.\n",
        "\n",
        "Essa informação consegue evidenciar bastante a diferença social presente na época. \n",
        "\n",
        "Além disso, vemos que em todas as classes, as mulheres tiveram prioridades na evacuação, acarretando em um número maior de sobreviventes em relação aos passageiros masculinos."
      ]
    },
    {
      "cell_type": "markdown",
      "metadata": {
        "id": "h1lTlcZmV746",
        "colab_type": "text"
      },
      "source": [
        "#### 5.6 A tarifa de embarque apresenta relação com a sobrevivência ou sobrevivência ? "
      ]
    },
    {
      "cell_type": "code",
      "metadata": {
        "id": "DYU-XXHjJPkR",
        "colab_type": "code",
        "colab": {
          "base_uri": "https://localhost:8080/",
          "height": 404
        },
        "outputId": "5a27c472-6f5c-435b-b6a3-53882245e3d3"
      },
      "source": [
        "plt.figure(figsize=(8,6))\n",
        "\n",
        "plt.title('Fare x Survived')\n",
        "\n",
        "sns.scatterplot(x='Fare', \n",
        "                y= 'Age',\n",
        "                hue= 'Survived', \n",
        "                data= train_df,\n",
        "                palette=\"Paired\"\n",
        "                )\n",
        "\n",
        "plt.show()"
      ],
      "execution_count": 35,
      "outputs": [
        {
          "output_type": "display_data",
          "data": {
            "image/png": "[encoded data removed]",
            "text/plain": [
              "<Figure size 576x432 with 1 Axes>"
            ]
          },
          "metadata": {
            "tags": []
          }
        }
      ]
    },
    {
      "cell_type": "markdown",
      "metadata": {
        "id": "Ccn8Jhx4WXY3",
        "colab_type": "text"
      },
      "source": [
        "É notório que existem um número maior de sobreviventes com tarifas de embarque(**Fare**) mais altas. "
      ]
    },
    {
      "cell_type": "code",
      "metadata": {
        "id": "F01lgn8iXTzm",
        "colab_type": "code",
        "colab": {}
      },
      "source": [
        "df_class_fare = train_df[['Pclass', 'Fare']]"
      ],
      "execution_count": 36,
      "outputs": []
    },
    {
      "cell_type": "code",
      "metadata": {
        "id": "YlsHcMWYa6HB",
        "colab_type": "code",
        "colab": {
          "base_uri": "https://localhost:8080/",
          "height": 173
        },
        "outputId": "bb6c3177-8f4d-49d6-b542-4df5d2890257"
      },
      "source": [
        "df_class_fare.groupby('Pclass').mean()"
      ],
      "execution_count": 37,
      "outputs": [
        {
          "output_type": "execute_result",
          "data": {
            "text/html": [
              "<div>\n",
              "<style scoped>\n",
              "    .dataframe tbody tr th:only-of-type {\n",
              "        vertical-align: middle;\n",
              "    }\n",
              "\n",
              "    .dataframe tbody tr th {\n",
              "        vertical-align: top;\n",
              "    }\n",
              "\n",
              "    .dataframe thead th {\n",
              "        text-align: right;\n",
              "    }\n",
              "</style>\n",
              "<table border=\"1\" class=\"dataframe\">\n",
              "  <thead>\n",
              "    <tr style=\"text-align: right;\">\n",
              "      <th></th>\n",
              "      <th>Fare</th>\n",
              "    </tr>\n",
              "    <tr>\n",
              "      <th>Pclass</th>\n",
              "      <th></th>\n",
              "    </tr>\n",
              "  </thead>\n",
              "  <tbody>\n",
              "    <tr>\n",
              "      <th>1</th>\n",
              "      <td>84.154687</td>\n",
              "    </tr>\n",
              "    <tr>\n",
              "      <th>2</th>\n",
              "      <td>20.662183</td>\n",
              "    </tr>\n",
              "    <tr>\n",
              "      <th>3</th>\n",
              "      <td>13.675550</td>\n",
              "    </tr>\n",
              "  </tbody>\n",
              "</table>\n",
              "</div>"
            ],
            "text/plain": [
              "             Fare\n",
              "Pclass           \n",
              "1       84.154687\n",
              "2       20.662183\n",
              "3       13.675550"
            ]
          },
          "metadata": {
            "tags": []
          },
          "execution_count": 37
        }
      ]
    },
    {
      "cell_type": "code",
      "metadata": {
        "id": "oquotwu-cGvD",
        "colab_type": "code",
        "colab": {
          "base_uri": "https://localhost:8080/",
          "height": 173
        },
        "outputId": "fdf47f98-7e38-4c33-a701-9888c206fbde"
      },
      "source": [
        "df_class_fare.groupby('Pclass').median()"
      ],
      "execution_count": 38,
      "outputs": [
        {
          "output_type": "execute_result",
          "data": {
            "text/html": [
              "<div>\n",
              "<style scoped>\n",
              "    .dataframe tbody tr th:only-of-type {\n",
              "        vertical-align: middle;\n",
              "    }\n",
              "\n",
              "    .dataframe tbody tr th {\n",
              "        vertical-align: top;\n",
              "    }\n",
              "\n",
              "    .dataframe thead th {\n",
              "        text-align: right;\n",
              "    }\n",
              "</style>\n",
              "<table border=\"1\" class=\"dataframe\">\n",
              "  <thead>\n",
              "    <tr style=\"text-align: right;\">\n",
              "      <th></th>\n",
              "      <th>Fare</th>\n",
              "    </tr>\n",
              "    <tr>\n",
              "      <th>Pclass</th>\n",
              "      <th></th>\n",
              "    </tr>\n",
              "  </thead>\n",
              "  <tbody>\n",
              "    <tr>\n",
              "      <th>1</th>\n",
              "      <td>60.2875</td>\n",
              "    </tr>\n",
              "    <tr>\n",
              "      <th>2</th>\n",
              "      <td>14.2500</td>\n",
              "    </tr>\n",
              "    <tr>\n",
              "      <th>3</th>\n",
              "      <td>8.0500</td>\n",
              "    </tr>\n",
              "  </tbody>\n",
              "</table>\n",
              "</div>"
            ],
            "text/plain": [
              "           Fare\n",
              "Pclass         \n",
              "1       60.2875\n",
              "2       14.2500\n",
              "3        8.0500"
            ]
          },
          "metadata": {
            "tags": []
          },
          "execution_count": 38
        }
      ]
    },
    {
      "cell_type": "markdown",
      "metadata": {
        "id": "pCQ6WFPWbiEA",
        "colab_type": "text"
      },
      "source": [
        "Além disso, podemos confirmar que os passageiros que pagaram maiores tarifas são da classe que apresenta maiores sobreviventes. "
      ]
    },
    {
      "cell_type": "markdown",
      "metadata": {
        "id": "7HZWsdl2LeQF",
        "colab_type": "text"
      },
      "source": [
        "## 6. Data Wrangling (Parte 2)\n"
      ]
    },
    {
      "cell_type": "markdown",
      "metadata": {
        "id": "_bYfR-vHutqV",
        "colab_type": "text"
      },
      "source": [
        "#### 6.1 Resample e Split training data "
      ]
    },
    {
      "cell_type": "markdown",
      "metadata": {
        "id": "hkAd1DQ2Lhfm",
        "colab_type": "text"
      },
      "source": [
        "Observamos que existe um desbalanceamento dos dados em relação a variável alvo *Survived*.\n"
      ]
    },
    {
      "cell_type": "code",
      "metadata": {
        "id": "BnIHRoMYOOto",
        "colab_type": "code",
        "colab": {
          "base_uri": "https://localhost:8080/",
          "height": 405
        },
        "outputId": "dcac5e59-8beb-45c4-d864-3bc9f5aa447b"
      },
      "source": [
        "plt.figure(figsize=(8, 6))\n",
        "\n",
        "plt.title('Dados Desbalanceados',\n",
        "          {'fontsize': 'x-large',\n",
        "           'fontweight' : 'bold'})\n",
        "\n",
        "sns.countplot(x = 'Survived', \n",
        "              data= train_df, \n",
        "              palette=sns.color_palette(\"Paired\"))\n",
        "\n",
        "plt.ylabel('Qtde Ocorrências')\n",
        "\n",
        "plt.show()"
      ],
      "execution_count": 39,
      "outputs": [
        {
          "output_type": "display_data",
          "data": {
            "image/png": "[encoded data removed]",
            "text/plain": [
              "<Figure size 576x432 with 1 Axes>"
            ]
          },
          "metadata": {
            "tags": []
          }
        }
      ]
    },
    {
      "cell_type": "markdown",
      "metadata": {
        "id": "HD-xphUARMay",
        "colab_type": "text"
      },
      "source": [
        "Modelos baseados em dados desbalanceados em relação a variável *target*, apresentam outputs com  um *bias* elevado, acarretando em previsões errôneas. \n",
        "\n",
        "Logo, para podermos aplicar um modelo preditivo, iremos aplicar o método de balanceamento de dados **Under-sampling**. \n",
        "\n",
        "O *Under-sampling* irá selecionar um subconjunto aleatório da variável alvo com maior ocorrência. Em um *trade-off*, o modelo terá ganho de performance devido a diminuição de dados em execução, porém ocorrerá perda de informação dos dados excluídos, podendo ocasionar em predições inferiores. "
      ]
    },
    {
      "cell_type": "markdown",
      "metadata": {
        "id": "sU4iBUlVgnTq",
        "colab_type": "text"
      },
      "source": [
        "Antes de realizarmos o processo de *resample*, iremos separar a variável target das demais. Logo, temos:"
      ]
    },
    {
      "cell_type": "code",
      "metadata": {
        "id": "XGm3R1U1fcSq",
        "colab_type": "code",
        "colab": {}
      },
      "source": [
        "X = train_df.drop(columns='Survived')\n",
        "y = train_df['Survived']"
      ],
      "execution_count": 40,
      "outputs": []
    },
    {
      "cell_type": "markdown",
      "metadata": {
        "id": "CdbM2LEAjAvp",
        "colab_type": "text"
      },
      "source": [
        "Será instânciada a classe *resample* e aplicado nos dados de treinamento."
      ]
    },
    {
      "cell_type": "code",
      "metadata": {
        "id": "lRxuU_C9iyh7",
        "colab_type": "code",
        "colab": {}
      },
      "source": [
        "from imblearn.under_sampling import RandomUnderSampler\n",
        "\n",
        "res = RandomUnderSampler()\n",
        "warnings.filterwarnings(\"ignore\", category=FutureWarning)"
      ],
      "execution_count": 41,
      "outputs": []
    },
    {
      "cell_type": "code",
      "metadata": {
        "id": "dCo3JbCbWwoU",
        "colab_type": "code",
        "colab": {}
      },
      "source": [
        "X_, y_ = res.fit_resample(X, y)"
      ],
      "execution_count": 42,
      "outputs": []
    },
    {
      "cell_type": "code",
      "metadata": {
        "id": "lgwQq6UNjN1c",
        "colab_type": "code",
        "colab": {
          "base_uri": "https://localhost:8080/",
          "height": 391
        },
        "outputId": "a0ac665c-a9db-4119-f276-a016a6eb4480"
      },
      "source": [
        "# verificando o resample\n",
        "\n",
        "plt.figure(figsize=(8, 6))\n",
        "\n",
        "plt.title('Resample Target Survived',\n",
        "          {'fontsize': 'x-large',\n",
        "           'fontweight': 'bold'})\n",
        "\n",
        "sns.countplot(y_,\n",
        "              palette=sns.color_palette(\"Paired\"))\n",
        "\n",
        "plt.ylabel('Qtde Ocorrências')\n",
        "\n",
        "plt.show()"
      ],
      "execution_count": 43,
      "outputs": [
        {
          "output_type": "display_data",
          "data": {
            "image/png": "[encoded data removed]",
            "text/plain": [
              "<Figure size 576x432 with 1 Axes>"
            ]
          },
          "metadata": {
            "tags": []
          }
        }
      ]
    },
    {
      "cell_type": "code",
      "metadata": {
        "id": "g0DcU9cOAXm7",
        "colab_type": "code",
        "colab": {}
      },
      "source": [
        "from sklearn.model_selection import train_test_split"
      ],
      "execution_count": 44,
      "outputs": []
    },
    {
      "cell_type": "code",
      "metadata": {
        "id": "X47Jx3j5_P5v",
        "colab_type": "code",
        "colab": {}
      },
      "source": [
        "X_train, X_test, y_train, y_test = train_test_split(X_, y_, test_size = 0.35, random_state = 42)"
      ],
      "execution_count": 45,
      "outputs": []
    },
    {
      "cell_type": "code",
      "metadata": {
        "id": "-bvEAajaA2kM",
        "colab_type": "code",
        "colab": {
          "base_uri": "https://localhost:8080/",
          "height": 85
        },
        "outputId": "d76c7f90-bcd3-4e57-ddf6-6c809684a74e"
      },
      "source": [
        "print(f'X treino: {X_train.shape}')\n",
        "print(f'X test: {X_test.shape}')\n",
        "print(f'y treino: {y_train.shape}')\n",
        "print(f'y test: {y_test.shape}')\n"
      ],
      "execution_count": 46,
      "outputs": [
        {
          "output_type": "stream",
          "text": [
            "X treino: (444, 7)\n",
            "X test: (240, 7)\n",
            "y treino: (444,)\n",
            "y test: (240,)\n"
          ],
          "name": "stdout"
        }
      ]
    },
    {
      "cell_type": "markdown",
      "metadata": {
        "id": "r9VRESOcvJGh",
        "colab_type": "text"
      },
      "source": [
        "## 7. Definição Modelos"
      ]
    },
    {
      "cell_type": "markdown",
      "metadata": {
        "id": "k5he04E9CZsR",
        "colab_type": "text"
      },
      "source": [
        "O desafio em questão pode ser definido como o problema de classificação e aprendizado supervisionado, isto é, baseado nos datasets disponibilizados e transformados, iremos criar modelos que tentarão prevê se os passageiros irão sobreviver ou não ao naufrágio do Titanic."
      ]
    },
    {
      "cell_type": "markdown",
      "metadata": {
        "id": "SmPMXUCA-3oD",
        "colab_type": "text"
      },
      "source": [
        "Serão aplicados os algoritmos *Logistic Regression* e *Random Forest*."
      ]
    },
    {
      "cell_type": "markdown",
      "metadata": {
        "id": "erWhrwUhCOxA",
        "colab_type": "text"
      },
      "source": [
        "#### 7.1 Logistic Regression "
      ]
    },
    {
      "cell_type": "code",
      "metadata": {
        "id": "I9rTrMtSCOLc",
        "colab_type": "code",
        "colab": {}
      },
      "source": [
        "from sklearn.linear_model import LogisticRegression"
      ],
      "execution_count": 82,
      "outputs": []
    },
    {
      "cell_type": "code",
      "metadata": {
        "id": "Q6iATn6zDbB9",
        "colab_type": "code",
        "colab": {}
      },
      "source": [
        "modelReg = LogisticRegression()"
      ],
      "execution_count": 83,
      "outputs": []
    },
    {
      "cell_type": "code",
      "metadata": {
        "id": "oEsxUEFfDkUp",
        "colab_type": "code",
        "colab": {
          "base_uri": "https://localhost:8080/",
          "height": 238
        },
        "outputId": "a2a43ead-f087-4eb4-b459-245d1f2ab309"
      },
      "source": [
        "modelReg.fit(X_train, y_train)"
      ],
      "execution_count": 84,
      "outputs": [
        {
          "output_type": "stream",
          "text": [
            "/usr/local/lib/python3.6/dist-packages/sklearn/linear_model/_logistic.py:940: ConvergenceWarning: lbfgs failed to converge (status=1):\n",
            "STOP: TOTAL NO. of ITERATIONS REACHED LIMIT.\n",
            "\n",
            "Increase the number of iterations (max_iter) or scale the data as shown in:\n",
            "    https://scikit-learn.org/stable/modules/preprocessing.html\n",
            "Please also refer to the documentation for alternative solver options:\n",
            "    https://scikit-learn.org/stable/modules/linear_model.html#logistic-regression\n",
            "  extra_warning_msg=_LOGISTIC_SOLVER_CONVERGENCE_MSG)\n"
          ],
          "name": "stderr"
        },
        {
          "output_type": "execute_result",
          "data": {
            "text/plain": [
              "LogisticRegression(C=1.0, class_weight=None, dual=False, fit_intercept=True,\n",
              "                   intercept_scaling=1, l1_ratio=None, max_iter=100,\n",
              "                   multi_class='auto', n_jobs=None, penalty='l2',\n",
              "                   random_state=None, solver='lbfgs', tol=0.0001, verbose=0,\n",
              "                   warm_start=False)"
            ]
          },
          "metadata": {
            "tags": []
          },
          "execution_count": 84
        }
      ]
    },
    {
      "cell_type": "code",
      "metadata": {
        "id": "S6ZOAAi4DtOF",
        "colab_type": "code",
        "colab": {}
      },
      "source": [
        "y_reg = modelReg.predict(X_test)"
      ],
      "execution_count": 86,
      "outputs": []
    },
    {
      "cell_type": "markdown",
      "metadata": {
        "id": "DWvO7Q9Ri6NT",
        "colab_type": "text"
      },
      "source": [
        "#### 7.2 Random Forest"
      ]
    },
    {
      "cell_type": "code",
      "metadata": {
        "id": "BePDSjwei-4j",
        "colab_type": "code",
        "colab": {}
      },
      "source": [
        "from sklearn.ensemble import RandomForestClassifier"
      ],
      "execution_count": 85,
      "outputs": []
    },
    {
      "cell_type": "code",
      "metadata": {
        "id": "DTxvm2A6HHI3",
        "colab_type": "code",
        "colab": {}
      },
      "source": [
        "modelRand = RandomForestClassifier(criterion='entropy',\n",
        "                                  max_depth= 200,\n",
        "                                  max_leaf_nodes = 10,\n",
        "                                  n_estimators= 200,\n",
        "                                  random_state=42)"
      ],
      "execution_count": 87,
      "outputs": []
    },
    {
      "cell_type": "code",
      "metadata": {
        "id": "-5O3QjuBnD98",
        "colab_type": "code",
        "colab": {
          "base_uri": "https://localhost:8080/",
          "height": 153
        },
        "outputId": "b65d960b-1eab-458a-ad09-01f584268423"
      },
      "source": [
        "modelRand.fit(X_train, y_train)"
      ],
      "execution_count": 88,
      "outputs": [
        {
          "output_type": "execute_result",
          "data": {
            "text/plain": [
              "RandomForestClassifier(bootstrap=True, ccp_alpha=0.0, class_weight=None,\n",
              "                       criterion='entropy', max_depth=200, max_features='auto',\n",
              "                       max_leaf_nodes=10, max_samples=None,\n",
              "                       min_impurity_decrease=0.0, min_impurity_split=None,\n",
              "                       min_samples_leaf=1, min_samples_split=2,\n",
              "                       min_weight_fraction_leaf=0.0, n_estimators=200,\n",
              "                       n_jobs=None, oob_score=False, random_state=42, verbose=0,\n",
              "                       warm_start=False)"
            ]
          },
          "metadata": {
            "tags": []
          },
          "execution_count": 88
        }
      ]
    },
    {
      "cell_type": "code",
      "metadata": {
        "id": "JoBeV1aKnJ1P",
        "colab_type": "code",
        "colab": {}
      },
      "source": [
        "y_rand = modelRand.predict(X_test)"
      ],
      "execution_count": 54,
      "outputs": []
    },
    {
      "cell_type": "markdown",
      "metadata": {
        "id": "oR_7KkVKsUtF",
        "colab_type": "text"
      },
      "source": [
        "## 8. Avaliação Modelos"
      ]
    },
    {
      "cell_type": "markdown",
      "metadata": {
        "id": "zOyJ0Qh0vY7a",
        "colab_type": "text"
      },
      "source": [
        "Para avaliação dos modelos, utilizaremos as métricas: Matriz de confusão, acurácia, curva RO e curva ROC x AUC."
      ]
    },
    {
      "cell_type": "code",
      "metadata": {
        "id": "t7w9WOQIoMuR",
        "colab_type": "code",
        "colab": {}
      },
      "source": [
        "from sklearn.metrics import classification_report\n",
        "from sklearn.metrics import accuracy_score, roc_auc_score"
      ],
      "execution_count": 55,
      "outputs": []
    },
    {
      "cell_type": "code",
      "metadata": {
        "id": "DqSuzSso2GeK",
        "colab_type": "code",
        "colab": {}
      },
      "source": [
        "# Logistic Regression\n",
        "\n",
        "acuracia_reg = accuracy_score(y_test, y_reg)\n",
        "\n",
        "roc_auc_reg = roc_auc_score(y_test, y_reg)\n",
        "\n",
        "# Random Forest\n",
        "\n",
        "acuracia_rand = accuracy_score(y_test, y_rand)\n",
        "\n",
        "roc_auc_rand = roc_auc_score(y_test, y_rand)"
      ],
      "execution_count": 56,
      "outputs": []
    },
    {
      "cell_type": "code",
      "metadata": {
        "id": "5SXhw3Wb4BgP",
        "colab_type": "code",
        "colab": {
          "base_uri": "https://localhost:8080/",
          "height": 51
        },
        "outputId": "9d2ac9d1-c731-4b9e-8f0b-4f758aacf8e4"
      },
      "source": [
        "print(f'Acurácia Logistic Regression: {acuracia_reg:.4f}.')\n",
        "print(f'Acurácia Random Forest: {acuracia_rand:.4f}.')"
      ],
      "execution_count": 57,
      "outputs": [
        {
          "output_type": "stream",
          "text": [
            "Acurácia Logistic Regression: 0.7750.\n",
            "Acurácia Random Forest: 0.8083.\n"
          ],
          "name": "stdout"
        }
      ]
    },
    {
      "cell_type": "code",
      "metadata": {
        "id": "cmerMjJf4HnC",
        "colab_type": "code",
        "colab": {
          "base_uri": "https://localhost:8080/",
          "height": 51
        },
        "outputId": "2b5c79c0-9ade-421e-f45b-adf8208ef472"
      },
      "source": [
        "print(f'Curve AUC x ROC Logistic Regression:{roc_auc_reg:.4f}.')\n",
        "print(f'Curve AUC x ROC Random Forest:{roc_auc_rand:.4f}.')"
      ],
      "execution_count": 58,
      "outputs": [
        {
          "output_type": "stream",
          "text": [
            "Curve AUC x ROC Logistic Regression:0.7769.\n",
            "Curve AUC x ROC Random Forest:0.8090.\n"
          ],
          "name": "stdout"
        }
      ]
    },
    {
      "cell_type": "code",
      "metadata": {
        "id": "AhxWw46y9qHQ",
        "colab_type": "code",
        "colab": {
          "base_uri": "https://localhost:8080/",
          "height": 204
        },
        "outputId": "08cdcf37-fa00-4fa2-c11b-ade2dd6b428d"
      },
      "source": [
        "print('************ Report Classification - Logistic Regression ************')\n",
        "print(f'\\n {classification_report(y_test, y_reg)}')"
      ],
      "execution_count": 59,
      "outputs": [
        {
          "output_type": "stream",
          "text": [
            "************ Report Classification - Logistic Regression ************\n",
            "\n",
            "               precision    recall  f1-score   support\n",
            "\n",
            "           0       0.82      0.76      0.79       131\n",
            "           1       0.73      0.80      0.76       109\n",
            "\n",
            "    accuracy                           0.78       240\n",
            "   macro avg       0.77      0.78      0.77       240\n",
            "weighted avg       0.78      0.78      0.78       240\n",
            "\n"
          ],
          "name": "stdout"
        }
      ]
    },
    {
      "cell_type": "code",
      "metadata": {
        "id": "w3GqzYkt8d82",
        "colab_type": "code",
        "colab": {
          "base_uri": "https://localhost:8080/",
          "height": 204
        },
        "outputId": "3cf943cb-8d6f-4d83-c22f-43692aeacbb0"
      },
      "source": [
        "print('************ Report Classification - Random Forest ************')\n",
        "print(f'\\n {classification_report(y_test, y_rand)}')"
      ],
      "execution_count": 60,
      "outputs": [
        {
          "output_type": "stream",
          "text": [
            "************ Report Classification - Random Forest ************\n",
            "\n",
            "               precision    recall  f1-score   support\n",
            "\n",
            "           0       0.84      0.80      0.82       131\n",
            "           1       0.77      0.82      0.79       109\n",
            "\n",
            "    accuracy                           0.81       240\n",
            "   macro avg       0.81      0.81      0.81       240\n",
            "weighted avg       0.81      0.81      0.81       240\n",
            "\n"
          ],
          "name": "stdout"
        }
      ]
    },
    {
      "cell_type": "code",
      "metadata": {
        "id": "fcWCBaRj_nAC",
        "colab_type": "code",
        "colab": {}
      },
      "source": [
        "from sklearn.metrics import confusion_matrix"
      ],
      "execution_count": 61,
      "outputs": []
    },
    {
      "cell_type": "code",
      "metadata": {
        "id": "l-OtkjxcFXwr",
        "colab_type": "code",
        "colab": {}
      },
      "source": [
        "# Confusion Matrix - Logistic Regression\n",
        "\n",
        "matrix_reg = confusion_matrix(y_test,\n",
        "                              y_reg\n",
        "                              )\n",
        "\n",
        "\n",
        "perc_reg = matrix_reg / np.sum(matrix_reg)"
      ],
      "execution_count": 62,
      "outputs": []
    },
    {
      "cell_type": "code",
      "metadata": {
        "id": "P8tGx_tpC7IF",
        "colab_type": "code",
        "colab": {
          "base_uri": "https://localhost:8080/",
          "height": 391
        },
        "outputId": "bfdde8fa-208e-4c94-9ca1-349d1bfaddb0"
      },
      "source": [
        "plt.figure(figsize=(8, 6))\n",
        "\n",
        "plt.title('Confusion Matrix - Logistic Regression in %',\n",
        "          {'fontsize': 'x-large',\n",
        "           'fontweight': 'bold'})\n",
        "\n",
        "sns.heatmap(perc_reg * 100,\n",
        "            cmap = 'Blues',\n",
        "            annot = True)\n",
        "\n",
        "plt.show()"
      ],
      "execution_count": 63,
      "outputs": [
        {
          "output_type": "display_data",
          "data": {
            "image/png": "[encoded data removed]",
            "text/plain": [
              "<Figure size 576x432 with 2 Axes>"
            ]
          },
          "metadata": {
            "tags": []
          }
        }
      ]
    },
    {
      "cell_type": "code",
      "metadata": {
        "id": "hzuIL0PoDoat",
        "colab_type": "code",
        "colab": {}
      },
      "source": [
        "# Confusion Matrix - Random Forest\n",
        "\n",
        "matrix_rand = confusion_matrix(y_test,\n",
        "                              y_rand\n",
        "                              )\n",
        "\n",
        "\n",
        "perc_rand = matrix_rand / np.sum(matrix_rand)"
      ],
      "execution_count": 64,
      "outputs": []
    },
    {
      "cell_type": "code",
      "metadata": {
        "id": "pWEksle3HLCC",
        "colab_type": "code",
        "colab": {
          "base_uri": "https://localhost:8080/",
          "height": 391
        },
        "outputId": "aeb415a6-102c-4490-e5e1-c1d490650f63"
      },
      "source": [
        "plt.figure(figsize=(8, 6))\n",
        "\n",
        "plt.title('Confusion Matrix - Random Forest in %',\n",
        "          {'fontsize': 'x-large',\n",
        "           'fontweight': 'bold'})\n",
        "\n",
        "sns.heatmap(perc_rand * 100,\n",
        "            cmap = 'Blues',\n",
        "            annot = True)\n",
        "\n",
        "plt.show()"
      ],
      "execution_count": 89,
      "outputs": [
        {
          "output_type": "display_data",
          "data": {
            "image/png": "[encoded data removed]",
            "text/plain": [
              "<Figure size 576x432 with 2 Axes>"
            ]
          },
          "metadata": {
            "tags": []
          }
        }
      ]
    },
    {
      "cell_type": "markdown",
      "metadata": {
        "id": "ElLUhDwJ6LpN",
        "colab_type": "text"
      },
      "source": [
        "O modelo *Random Forest* apresentou maior acurácia, maior curva ROC e melhores resultados de precisão e *recall* em relacão a capacidade de previsibilidade de sobreviventes."
      ]
    },
    {
      "cell_type": "markdown",
      "metadata": {
        "id": "6cDnGDhaIXYC",
        "colab_type": "text"
      },
      "source": [
        "## 8. Aplicação Modelo"
      ]
    },
    {
      "cell_type": "markdown",
      "metadata": {
        "id": "NjiGA9Q26ocb",
        "colab_type": "text"
      },
      "source": [
        "Para aplicar o modelo escolhido, iremos aplicar algumas funções criadas anteriormente para tratamento de algumas features."
      ]
    },
    {
      "cell_type": "code",
      "metadata": {
        "id": "wxRVyXD-61iX",
        "colab_type": "code",
        "colab": {}
      },
      "source": [
        "# tratando idades nulas\n",
        "\n",
        "new_data = median_age(data_test)"
      ],
      "execution_count": 66,
      "outputs": []
    },
    {
      "cell_type": "code",
      "metadata": {
        "id": "YfOC-ONH8P9z",
        "colab_type": "code",
        "colab": {}
      },
      "source": [
        "# tratando taxas nulas\n",
        "\n",
        "new_data = median_fare(new_data)"
      ],
      "execution_count": 67,
      "outputs": []
    },
    {
      "cell_type": "code",
      "metadata": {
        "id": "LjLCc6B38Upq",
        "colab_type": "code",
        "colab": {}
      },
      "source": [
        "# transformando feature sex em número\n",
        "\n",
        "new_data = codify_sex(new_data)"
      ],
      "execution_count": 68,
      "outputs": []
    },
    {
      "cell_type": "code",
      "metadata": {
        "id": "1rT-k8D-8dM5",
        "colab_type": "code",
        "colab": {}
      },
      "source": [
        "# transformando feature embarked em númerico e feature enginnering com criação de novas features\n",
        "\n",
        "new_data = codify_embarked(new_data)"
      ],
      "execution_count": 69,
      "outputs": []
    },
    {
      "cell_type": "code",
      "metadata": {
        "id": "UhqPgkaY8hob",
        "colab_type": "code",
        "colab": {}
      },
      "source": [
        "# drop em colunas não essenciais\n",
        "\n",
        "new_data = drop_columns(new_data)"
      ],
      "execution_count": 70,
      "outputs": []
    },
    {
      "cell_type": "code",
      "metadata": {
        "id": "0h-k1nxZ8jyo",
        "colab_type": "code",
        "colab": {}
      },
      "source": [
        "# drop colunas embarked por multicolinearidade\n",
        "\n",
        "new_data = drop_embarked(new_data)"
      ],
      "execution_count": 71,
      "outputs": []
    },
    {
      "cell_type": "code",
      "metadata": {
        "id": "IR9i5rkL8m3w",
        "colab_type": "code",
        "colab": {
          "base_uri": "https://localhost:8080/",
          "height": 204
        },
        "outputId": "d2ab8de4-746f-4d0d-c178-2ba80e18d68d"
      },
      "source": [
        "new_data.head()"
      ],
      "execution_count": 72,
      "outputs": [
        {
          "output_type": "execute_result",
          "data": {
            "text/html": [
              "<div>\n",
              "<style scoped>\n",
              "    .dataframe tbody tr th:only-of-type {\n",
              "        vertical-align: middle;\n",
              "    }\n",
              "\n",
              "    .dataframe tbody tr th {\n",
              "        vertical-align: top;\n",
              "    }\n",
              "\n",
              "    .dataframe thead th {\n",
              "        text-align: right;\n",
              "    }\n",
              "</style>\n",
              "<table border=\"1\" class=\"dataframe\">\n",
              "  <thead>\n",
              "    <tr style=\"text-align: right;\">\n",
              "      <th></th>\n",
              "      <th>Pclass</th>\n",
              "      <th>Age</th>\n",
              "      <th>SibSp</th>\n",
              "      <th>Parch</th>\n",
              "      <th>Fare</th>\n",
              "      <th>SexCode</th>\n",
              "      <th>Embarked_Q</th>\n",
              "    </tr>\n",
              "  </thead>\n",
              "  <tbody>\n",
              "    <tr>\n",
              "      <th>0</th>\n",
              "      <td>3</td>\n",
              "      <td>34.5</td>\n",
              "      <td>0</td>\n",
              "      <td>0</td>\n",
              "      <td>7.8292</td>\n",
              "      <td>1</td>\n",
              "      <td>1</td>\n",
              "    </tr>\n",
              "    <tr>\n",
              "      <th>1</th>\n",
              "      <td>3</td>\n",
              "      <td>47.0</td>\n",
              "      <td>1</td>\n",
              "      <td>0</td>\n",
              "      <td>7.0000</td>\n",
              "      <td>0</td>\n",
              "      <td>0</td>\n",
              "    </tr>\n",
              "    <tr>\n",
              "      <th>2</th>\n",
              "      <td>2</td>\n",
              "      <td>62.0</td>\n",
              "      <td>0</td>\n",
              "      <td>0</td>\n",
              "      <td>9.6875</td>\n",
              "      <td>1</td>\n",
              "      <td>1</td>\n",
              "    </tr>\n",
              "    <tr>\n",
              "      <th>3</th>\n",
              "      <td>3</td>\n",
              "      <td>27.0</td>\n",
              "      <td>0</td>\n",
              "      <td>0</td>\n",
              "      <td>8.6625</td>\n",
              "      <td>1</td>\n",
              "      <td>0</td>\n",
              "    </tr>\n",
              "    <tr>\n",
              "      <th>4</th>\n",
              "      <td>3</td>\n",
              "      <td>22.0</td>\n",
              "      <td>1</td>\n",
              "      <td>1</td>\n",
              "      <td>12.2875</td>\n",
              "      <td>0</td>\n",
              "      <td>0</td>\n",
              "    </tr>\n",
              "  </tbody>\n",
              "</table>\n",
              "</div>"
            ],
            "text/plain": [
              "   Pclass   Age  SibSp  Parch     Fare  SexCode  Embarked_Q\n",
              "0       3  34.5      0      0   7.8292        1           1\n",
              "1       3  47.0      1      0   7.0000        0           0\n",
              "2       2  62.0      0      0   9.6875        1           1\n",
              "3       3  27.0      0      0   8.6625        1           0\n",
              "4       3  22.0      1      1  12.2875        0           0"
            ]
          },
          "metadata": {
            "tags": []
          },
          "execution_count": 72
        }
      ]
    },
    {
      "cell_type": "code",
      "metadata": {
        "id": "srwDtbVY8oIr",
        "colab_type": "code",
        "colab": {}
      },
      "source": [
        "# Aplicando modelo nos dados de produção\n",
        "\n",
        "y_new = modelRand.predict(new_data)"
      ],
      "execution_count": 73,
      "outputs": []
    },
    {
      "cell_type": "code",
      "metadata": {
        "id": "iqpFpZcA-Ak_",
        "colab_type": "code",
        "colab": {}
      },
      "source": [
        "# O retorno do modelo é um array. Será necessário transformar em Series para concatenar com o dataset/dataframe de produção.\n",
        "\n",
        "y_series = pd.Series(y_new)"
      ],
      "execution_count": 74,
      "outputs": []
    },
    {
      "cell_type": "code",
      "metadata": {
        "id": "dpnmQ5pE-F0E",
        "colab_type": "code",
        "colab": {
          "base_uri": "https://localhost:8080/",
          "height": 221
        },
        "outputId": "63758da5-f28c-48d5-a7a1-7e086d36a70b"
      },
      "source": [
        "y_series"
      ],
      "execution_count": 75,
      "outputs": [
        {
          "output_type": "execute_result",
          "data": {
            "text/plain": [
              "0      0\n",
              "1      1\n",
              "2      0\n",
              "3      0\n",
              "4      1\n",
              "      ..\n",
              "413    0\n",
              "414    1\n",
              "415    0\n",
              "416    0\n",
              "417    0\n",
              "Length: 418, dtype: int64"
            ]
          },
          "metadata": {
            "tags": []
          },
          "execution_count": 75
        }
      ]
    },
    {
      "cell_type": "code",
      "metadata": {
        "id": "PwCa1h3v9MVJ",
        "colab_type": "code",
        "colab": {}
      },
      "source": [
        "# criando dataset com dados da previsão\n",
        "\n",
        "predict_dataset = pd.concat([data_test, y_series], axis= 1)"
      ],
      "execution_count": 76,
      "outputs": []
    },
    {
      "cell_type": "code",
      "metadata": {
        "id": "mYbviXwt9R7I",
        "colab_type": "code",
        "colab": {}
      },
      "source": [
        "predict_dataset.rename(columns= {0: 'Survived'}, inplace= True)"
      ],
      "execution_count": 77,
      "outputs": []
    },
    {
      "cell_type": "code",
      "metadata": {
        "id": "TDIPSPm8_TJs",
        "colab_type": "code",
        "colab": {
          "base_uri": "https://localhost:8080/",
          "height": 68
        },
        "outputId": "a3d9caf1-aafb-4bef-bbb8-a9b3836bbb4a"
      },
      "source": [
        "predict_dataset.columns"
      ],
      "execution_count": 78,
      "outputs": [
        {
          "output_type": "execute_result",
          "data": {
            "text/plain": [
              "Index(['PassengerId', 'Pclass', 'Name', 'Sex', 'Age', 'SibSp', 'Parch',\n",
              "       'Ticket', 'Fare', 'Cabin', 'Embarked', 'SexCode', 'Survived'],\n",
              "      dtype='object')"
            ]
          },
          "metadata": {
            "tags": []
          },
          "execution_count": 78
        }
      ]
    },
    {
      "cell_type": "code",
      "metadata": {
        "id": "W4I4-p2j-j8m",
        "colab_type": "code",
        "colab": {}
      },
      "source": [
        "# criando dataset para submissão no kaggle.\n",
        "\n",
        "gender_submission = predict_dataset[['PassengerId', 'Survived']]"
      ],
      "execution_count": 79,
      "outputs": []
    },
    {
      "cell_type": "code",
      "metadata": {
        "id": "zqdxudJZ-z2h",
        "colab_type": "code",
        "colab": {
          "base_uri": "https://localhost:8080/",
          "height": 359
        },
        "outputId": "c40a9dfe-519d-47a8-dd48-25aa723db0f4"
      },
      "source": [
        "gender_submission.head(10)"
      ],
      "execution_count": 80,
      "outputs": [
        {
          "output_type": "execute_result",
          "data": {
            "text/html": [
              "<div>\n",
              "<style scoped>\n",
              "    .dataframe tbody tr th:only-of-type {\n",
              "        vertical-align: middle;\n",
              "    }\n",
              "\n",
              "    .dataframe tbody tr th {\n",
              "        vertical-align: top;\n",
              "    }\n",
              "\n",
              "    .dataframe thead th {\n",
              "        text-align: right;\n",
              "    }\n",
              "</style>\n",
              "<table border=\"1\" class=\"dataframe\">\n",
              "  <thead>\n",
              "    <tr style=\"text-align: right;\">\n",
              "      <th></th>\n",
              "      <th>PassengerId</th>\n",
              "      <th>Survived</th>\n",
              "    </tr>\n",
              "  </thead>\n",
              "  <tbody>\n",
              "    <tr>\n",
              "      <th>0</th>\n",
              "      <td>892</td>\n",
              "      <td>0</td>\n",
              "    </tr>\n",
              "    <tr>\n",
              "      <th>1</th>\n",
              "      <td>893</td>\n",
              "      <td>1</td>\n",
              "    </tr>\n",
              "    <tr>\n",
              "      <th>2</th>\n",
              "      <td>894</td>\n",
              "      <td>0</td>\n",
              "    </tr>\n",
              "    <tr>\n",
              "      <th>3</th>\n",
              "      <td>895</td>\n",
              "      <td>0</td>\n",
              "    </tr>\n",
              "    <tr>\n",
              "      <th>4</th>\n",
              "      <td>896</td>\n",
              "      <td>1</td>\n",
              "    </tr>\n",
              "    <tr>\n",
              "      <th>5</th>\n",
              "      <td>897</td>\n",
              "      <td>0</td>\n",
              "    </tr>\n",
              "    <tr>\n",
              "      <th>6</th>\n",
              "      <td>898</td>\n",
              "      <td>1</td>\n",
              "    </tr>\n",
              "    <tr>\n",
              "      <th>7</th>\n",
              "      <td>899</td>\n",
              "      <td>0</td>\n",
              "    </tr>\n",
              "    <tr>\n",
              "      <th>8</th>\n",
              "      <td>900</td>\n",
              "      <td>1</td>\n",
              "    </tr>\n",
              "    <tr>\n",
              "      <th>9</th>\n",
              "      <td>901</td>\n",
              "      <td>0</td>\n",
              "    </tr>\n",
              "  </tbody>\n",
              "</table>\n",
              "</div>"
            ],
            "text/plain": [
              "   PassengerId  Survived\n",
              "0          892         0\n",
              "1          893         1\n",
              "2          894         0\n",
              "3          895         0\n",
              "4          896         1\n",
              "5          897         0\n",
              "6          898         1\n",
              "7          899         0\n",
              "8          900         1\n",
              "9          901         0"
            ]
          },
          "metadata": {
            "tags": []
          },
          "execution_count": 80
        }
      ]
    },
    {
      "cell_type": "code",
      "metadata": {
        "id": "ca0zTF9k_hsB",
        "colab_type": "code",
        "colab": {}
      },
      "source": [
        "gender_submission.to_csv('/content/drive/My Drive/titanic-challenge/datasets/gender_submission.csv', index= False)"
      ],
      "execution_count": 81,
      "outputs": []
    }
  ]
}